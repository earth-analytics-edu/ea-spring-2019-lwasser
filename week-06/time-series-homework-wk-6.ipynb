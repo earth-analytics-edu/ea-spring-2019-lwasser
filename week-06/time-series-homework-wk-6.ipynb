{
 "cells": [
  {
   "cell_type": "markdown",
   "metadata": {
    "nbgrader": {
     "grade": false,
     "grade_id": "hw2_instructions",
     "locked": true,
     "schema_version": 1,
     "solution": false
    }
   },
   "source": [
    "# <i class=\"fa fa-pencil-square-o\" aria-hidden=\"true\"></i> Homework 6 (5 points): Due  TBD\n",
    "\n",
    "1. Create a new Jupyter Notebook document named **youLastName-yourFirstName-time-series.ipynb**\n",
    "\n",
    "2. Add Plots to Your Jupyter Notebook Document\n",
    "\n",
    "Write code to create the plots described below to your Jupyter Notebook Document. Add 2-3 sentences of text below each plot in a new markdown cell that describes the contents of each plot. Use the course lessons posted on this website and the in class lectures to help. \n",
    "\n",
    "Please note that you will complete some of the plots assigned in the homework during class. \n",
    "\n",
    "\n",
    "## Homework Plots\n",
    "\n",
    "\n",
    "## PLOT 1:  \n",
    "\n",
    "Use the `data/colorado-flood/precipitation/805325-precip-dailysum-2003-2013.csv` file to plot precipitation from 2003 to 2013 in colorado using `matplotlib`.\n",
    "\n",
    "## PLOT 2: \n",
    "\n",
    "Use the `data/colorado-flood/precipitation/805325-precip-dailysum-2003-2013.csv` file  to create a precipitation plot that shows precipitation SUBSETTED from Aug 15 - Oct 15 2013 using `matplotlib`. Make sure that `x axis` for this plot has large ticks for each new week day and small ticks for each day. Label the plot using the format `Month Date`. Each label should look like:\n",
    "\n",
    "* `Aug 20`\n",
    "* `Aug 27`"
   ]
  },
  {
   "cell_type": "code",
   "execution_count": 1,
   "metadata": {},
   "outputs": [],
   "source": [
    "# Packages and code used to make the grading work\n",
    "# Do not edit this, just execute it\n",
    "from grading.ok import check\n",
    "import autograde.notebook as nb"
   ]
  },
  {
   "cell_type": "code",
   "execution_count": 2,
   "metadata": {
    "nbgrader": {
     "grade": false,
     "grade_id": "import_ans",
     "locked": false,
     "schema_version": 1,
     "solution": true
    }
   },
   "outputs": [
    {
     "data": {
      "text/plain": [
       "'/Users/leah-su/earth-analytics/data/colorado-flood/.'"
      ]
     },
     "execution_count": 2,
     "metadata": {},
     "output_type": "execute_result"
    }
   ],
   "source": [
    "# Import all libraries, get data & set working dir here\n",
    "import os\n",
    "import numpy as np\n",
    "import pandas as pd\n",
    "import matplotlib.dates as mdates\n",
    "from matplotlib.dates import DateFormatter\n",
    "import matplotlib.pyplot as plt\n",
    "import earthpy as et\n",
    "\n",
    "os.chdir(os.path.join(et.io.HOME, 'earth-analytics'))\n",
    "et.data.get_data('colorado-flood')"
   ]
  },
  {
   "cell_type": "markdown",
   "metadata": {},
   "source": [
    "## PLOT 1 \n",
    "\n",
    "Use pandas to open and process the `data/colorado-flood/discharge/06730200-discharge-daily-1986-2013.txt` txt file. Using this data, create a **scatter plot** using `ax.scatter` of **monthly maximum stream discharge from 1990-2014**. \n",
    "Document your steps used to process the data in a markdown cell BELOW the plot\n",
    "use pandas, make sure the dataframe has a datetime index\n",
    "calculate a monthly max value\n",
    " \n",
    "Subset the data to the time period: 1990-2014 using pandas syntax [\"\":\"\"]. This means that your date column should be setup as an index."
   ]
  },
  {
   "cell_type": "code",
   "execution_count": null,
   "metadata": {
    "tags": [
     "private"
    ]
   },
   "outputs": [],
   "source": [
    "check(\"time-series-homework-wk-6/q-7fbd2e1.py\")"
   ]
  },
  {
   "cell_type": "markdown",
   "metadata": {},
   "source": [
    "## PLOT ONE CODE BELOW\n",
    "Place your code for plot 1 in the cell below. You can add cells above it to process your data if you want. \n",
    "\n",
    "Use the data/colorado-flood/precipitation/805325-precip-dailysum-2003-2013.csv file for this plot\n"
   ]
  },
  {
   "cell_type": "code",
   "execution_count": 6,
   "metadata": {
    "nbgrader": {
     "grade": false,
     "grade_id": "p1_ans",
     "locked": false,
     "schema_version": 1,
     "solution": true
    }
   },
   "outputs": [
    {
     "data": {
      "image/png": "[encoded data removed]",
      "text/plain": [
       "<Figure size 720x576 with 1 Axes>"
      ]
     },
     "metadata": {
      "needs_background": "light"
     },
     "output_type": "display_data"
    }
   ],
   "source": [
    "# PLOT 1: a plot of precipitation from 2003 to 2013\n",
    "f = \"data/colorado-flood/discharge/06730200-discharge-daily-1986-2013.txt\"\n",
    "discharge = pd.read_csv(f,\n",
    "                        skiprows=23,\n",
    "                        header=[1, 2],\n",
    "                        sep='\\t',\n",
    "                        parse_dates=[2])\n",
    "discharge.columns = discharge.columns.droplevel(1)\n",
    "discharge = discharge.set_index([\"datetime\"])\n",
    "\n",
    "monthly_max_all = discharge.resample(\"M\").max()\n",
    "monthly_max = monthly_max_all['1990':'2014']\n",
    "\n",
    "# Create scatter plot\n",
    "fig, ax = plt.subplots(figsize=(10, 8))\n",
    "ax.scatter(x=monthly_max.index,\n",
    "           y=monthly_max[\"17663_00060_00003\"],\n",
    "           color=\"purple\")\n",
    "ax.set(xlabel='Date', ylabel='Daily Precipitation (inches)',\n",
    "       title='Homework plot 1: CO\\n 2013-2014')\n",
    "\n",
    "### DO NOT REMOVE LINE BELOW ###\n",
    "ax1 = nb.convert_axes(plt)"
   ]
  },
  {
   "cell_type": "markdown",
   "metadata": {},
   "source": [
    "The tests below can be run on your plot above. \n"
   ]
  },
  {
   "cell_type": "code",
   "execution_count": 9,
   "metadata": {
    "tags": [
     "public"
    ]
   },
   "outputs": [],
   "source": [
    "check(\"time-series-homework-wk-6/q-2db91f8.py\")"
   ]
  },
  {
   "cell_type": "markdown",
   "metadata": {},
   "source": [
    "Here is a \"private\" test. Below is a private test. It is all commented out."
   ]
  },
  {
   "cell_type": "code",
   "execution_count": 8,
   "metadata": {
    "tags": [
     "private"
    ]
   },
   "outputs": [],
   "source": [
    "check(\"time-series-homework-wk-6/q-d0cbf26.py\")"
   ]
  },
  {
   "cell_type": "markdown",
   "metadata": {},
   "source": [
    "Probably somewhere i'll ask them for the pandas dataframe "
   ]
  },
  {
   "cell_type": "markdown",
   "metadata": {
    "nbgrader": {
     "grade": true,
     "grade_id": "p1_written",
     "locked": false,
     "points": 1,
     "schema_version": 1,
     "solution": true
    }
   },
   "source": [
    "---\n",
    "## <span style=\"color:red\">Student Answer</span>\n",
    "\n",
    "*Double-click and add your answer between the lines*\n",
    "\n",
    "---"
   ]
  },
  {
   "cell_type": "code",
   "execution_count": 10,
   "metadata": {
    "nbgrader": {
     "grade": false,
     "grade_id": "p2_ans",
     "locked": false,
     "schema_version": 1,
     "solution": true
    }
   },
   "outputs": [
    {
     "data": {
      "image/png": "[encoded data removed]",
      "text/plain": [
       "<Figure size 720x360 with 1 Axes>"
      ]
     },
     "metadata": {
      "needs_background": "light"
     },
     "output_type": "display_data"
    }
   ],
   "source": [
    "# PLOT 2: a plot that shows precipitation SUBSETTED from Aug 15 - Oct 15 2013 \n",
    "# DO NOT USE plt.show() anywhere in this cell\n",
    "f = \"data/colorado-flood/discharge/06730200-discharge-daily-1986-2013.csv\"\n",
    "discharge = pd.read_csv(f, parse_dates=['datetime'])\n",
    "\n",
    "# create subplot and graph daily_precip as a bar graph\n",
    "fig, ax = plt.subplots(figsize=(10, 5))\n",
    "ax.plot(discharge['datetime'], discharge['disValue'])\n",
    "\n",
    "# set titles\n",
    "ax.set_title(\"Homework plot 3: Stream Discharge - Boulder, CO\\n1986-2014\")\n",
    "ax.set_xlabel(\"Date\")\n",
    "ax.set_ylabel(\"Stream Discharge (CFS)\")\n",
    "\n",
    "### DO NOT REMOVE LINE BELOW ###\n",
    "ax2 = nb.convert_axes(plt)"
   ]
  },
  {
   "cell_type": "markdown",
   "metadata": {},
   "source": [
    "Public tests below"
   ]
  },
  {
   "cell_type": "code",
   "execution_count": 11,
   "metadata": {
    "tags": [
     "public"
    ]
   },
   "outputs": [],
   "source": [
    "check(\"time-series-homework-wk-6/q-2e0e0e2.py\")"
   ]
  },
  {
   "cell_type": "code",
   "execution_count": null,
   "metadata": {
    "nbgrader": {
     "grade": true,
     "grade_id": "p2_tests",
     "locked": true,
     "points": 1,
     "schema_version": 1,
     "solution": false
    },
    "scrolled": false
   },
   "outputs": [],
   "source": [
    "# Test Suite for Plot 2\n",
    "#hw2t = homework2_tests()\n",
    "#results = unittest.TextTestRunner().run(hw2t.p2_tests(ax2))"
   ]
  },
  {
   "cell_type": "markdown",
   "metadata": {
    "nbgrader": {
     "grade": true,
     "grade_id": "p2_written",
     "locked": false,
     "points": 1,
     "schema_version": 1,
     "solution": true
    }
   },
   "source": [
    "---\n",
    "## <span style=\"color:red\">Student Answer</span>\n",
    "\n",
    "*Double-click and add your answer between the lines*\n",
    "\n",
    "---"
   ]
  },
  {
   "cell_type": "code",
   "execution_count": null,
   "metadata": {
    "nbgrader": {
     "grade": false,
     "grade_id": "p3_ans",
     "locked": false,
     "schema_version": 1,
     "solution": true
    }
   },
   "outputs": [],
   "source": [
    "# Plot 3 use the data/precipitation/805333-precip-daily-1948-2013.csv file\n",
    "# Plot 3: a plot of stream discharge from 1986 to 2013\n",
    "# DO NOT USE plt.show() anywhere in this cell\n",
    "\n",
    "# YOUR CODE HERE\n",
    "raise NotImplementedError()\n",
    "\n",
    "### DO NOT REMOVE LINE BELOW ###\n",
    "ax3 = nb.convert_axes(plt)"
   ]
  },
  {
   "cell_type": "code",
   "execution_count": null,
   "metadata": {
    "nbgrader": {
     "grade": true,
     "grade_id": "p3_tests",
     "locked": true,
     "points": 1,
     "schema_version": 1,
     "solution": false
    }
   },
   "outputs": [],
   "source": [
    "# Test Suite for Plot 3\n",
    "#hw2t = homework2_tests()\n",
    "#results = unittest.TextTestRunner().run(hw2t.p3_tests(ax3))"
   ]
  },
  {
   "cell_type": "markdown",
   "metadata": {
    "nbgrader": {
     "grade": true,
     "grade_id": "p3_written",
     "locked": false,
     "points": 1,
     "schema_version": 1,
     "solution": true
    }
   },
   "source": [
    "---\n",
    "## <span style=\"color:red\">Student Answer</span>\n",
    "\n",
    "*Double-click and add your answer between the lines*\n",
    "\n",
    "---"
   ]
  }
 ],
 "metadata": {
  "kernelspec": {
   "display_name": "Python [conda env:earth-analytics-python]",
   "language": "python",
   "name": "conda-env-earth-analytics-python-py"
  },
  "language_info": {
   "codemirror_mode": {
    "name": "ipython",
    "version": 3
   },
   "file_extension": ".py",
   "mimetype": "text/x-python",
   "name": "python",
   "nbconvert_exporter": "python",
   "pygments_lexer": "ipython3",
   "version": "3.6.6"
  }
 },
 "nbformat": 4,
 "nbformat_minor": 2
}
